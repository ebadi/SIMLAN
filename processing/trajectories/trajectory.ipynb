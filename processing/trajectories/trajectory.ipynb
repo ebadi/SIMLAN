{
 "cells": [
  {
   "cell_type": "markdown",
   "id": "d2a2624b-2b0c-4c0b-8846-9fec2a95fc2d",
   "metadata": {},
   "source": [
    "Q: low values for X_rotation. Is X_rotation actually rotation or is it velocity?"
   ]
  },
  {
   "cell_type": "code",
   "execution_count": null,
   "id": "06b4292b-1206-45fe-97ea-cb3d8c30e8b0",
   "metadata": {},
   "outputs": [],
   "source": [
    "import pandas as pd\n",
    "import json\n",
    "\n",
    "# Load the JSON data from a file\n",
    "with open('log_240517_1hz.json', 'r') as file:\n",
    "    data = json.load(file)\n",
    "\n",
    "\n",
    "rows = []\n",
    "for entry in data:\n",
    "    timestamp = entry['timestamp']\n",
    "    msg_timestamp = entry['msg_timestamp']\n",
    "    for obj in entry['object_list']:\n",
    "        row = {\n",
    "            'timestamp': timestamp,\n",
    "            'msg_timestamp': msg_timestamp,\n",
    "            'object_id': obj[0],\n",
    "            'x_position': obj[1],\n",
    "            'y_position': obj[2],\n",
    "            'z_position': obj[3],\n",
    "            'x_rotation': obj[4],\n",
    "            'y_rotation': obj[5],\n",
    "            'z_rotation': obj[6],\n",
    "        }\n",
    "        rows.append(row)\n",
    "\n",
    "df = pd.DataFrame(rows)\n",
    "\n",
    "df # = df[df['object_id'] == 0]"
   ]
  },
  {
   "cell_type": "code",
   "execution_count": null,
   "id": "e7dfcc27-ffc5-4f3f-86e5-c0e4c4ab55f8",
   "metadata": {},
   "outputs": [],
   "source": [
    "# df[df['object_id'] == 13772]\n",
    "df.describe()"
   ]
  },
  {
   "cell_type": "code",
   "execution_count": null,
   "id": "7b5e1617-a1ee-4210-8657-832001293013",
   "metadata": {},
   "outputs": [],
   "source": [
    "df['object_id'].nunique()"
   ]
  },
  {
   "cell_type": "code",
   "execution_count": null,
   "id": "c4452a78-a86e-4c9f-96e4-7ed48a89a166",
   "metadata": {},
   "outputs": [],
   "source": [
    "%matplotlib widget\n",
    "from mpl_toolkits import mplot3d\n",
    "import numpy as np\n",
    "import matplotlib.pyplot as plt\n",
    " \n",
    "x = df['x_position']\n",
    "y = df['y_position']\n",
    "z = df['z_position']\n",
    "\n",
    "fig = plt.figure(figsize=(15, 10))\n",
    "ax = fig.add_subplot(111, projection='3d')\n",
    "\n",
    "ax.scatter(x, y, z, color='green', s=1)\n",
    "ax.set_title(\"Simple 3D Scatter Plot\")\n",
    "\n",
    "# Set aspect ratio\n",
    "max_range = np.array([x.max()-x.min(), y.max()-y.min(), z.max()-z.min()]).max() / 2.0\n",
    "\n",
    "mid_x = (x.max()+x.min()) * 0.5\n",
    "mid_y = (y.max()+y.min()) * 0.5\n",
    "mid_z = (z.max()+z.min()) * 0.5\n",
    "\n",
    "ax.set_xlim(mid_x - max_range, mid_x + max_range)\n",
    "ax.set_ylim(mid_y - max_range, mid_y + max_range)\n",
    "ax.set_zlim(mid_z - max_range, mid_z + max_range)\n",
    "plt.show()"
   ]
  },
  {
   "cell_type": "code",
   "execution_count": null,
   "id": "baa1122f-9625-404c-aaba-bd96f58b520e",
   "metadata": {},
   "outputs": [],
   "source": [
    "import matplotlib.animation as animation\n",
    "data = pd.DataFrame(rows)\n",
    "data = data[[\"timestamp\", \"object_id\", \"x_position\", \"y_position\"]]\n",
    "print(data.describe())\n",
    "df = pd.DataFrame(data)\n",
    "fig, ax = plt.subplots()\n",
    "cmap = plt.cm.get_cmap(\"tab10\")  #  colormap\n",
    "\n",
    "def init():\n",
    "    ax.set_xlim(-26, 50)\n",
    "    ax.set_ylim(-11, 10)\n",
    "    return []\n",
    "\n",
    "\n",
    "def update(frame):\n",
    "    ax.clear()  # Clear the previous frame\n",
    "    ax.set_xlim(-26, 50)\n",
    "    ax.set_ylim(-11, 10)\n",
    "\n",
    "    # current timestamp\n",
    "    current_data = df[df[\"timestamp\"] == frame]\n",
    "\n",
    "    # Plot each object with a different color\n",
    "    for obj_id in current_data[\"object_id\"].unique():\n",
    "        obj_data = current_data[current_data[\"object_id\"] == obj_id]\n",
    "        ax.scatter(\n",
    "            obj_data[\"x_position\"], obj_data[\"y_position\"], color=cmap(int(obj_id) % 10)\n",
    "        )\n",
    "    #print(frame)\n",
    "    ax.legend(loc=\"upper right\")\n",
    "    return []\n",
    "\n",
    "\n",
    "timestamps = df[\"timestamp\"].unique()\n",
    "\n",
    "ani = animation.FuncAnimation(\n",
    "    fig, update, frames=timestamps, init_func=init, blit=True, repeat=False\n",
    ")\n",
    "ani.save(\"animation.mp4\", writer=\"ffmpeg\", fps=10)\n",
    "# plt.show()"
   ]
  },
  {
   "cell_type": "code",
   "execution_count": null,
   "id": "7b3e3e4f-5f44-4d48-8fa4-fdc6cfdab99a",
   "metadata": {},
   "outputs": [],
   "source": []
  }
 ],
 "metadata": {
  "kernelspec": {
   "display_name": "trajectory",
   "language": "python",
   "name": "trajectory"
  },
  "language_info": {
   "codemirror_mode": {
    "name": "ipython",
    "version": 3
   },
   "file_extension": ".py",
   "mimetype": "text/x-python",
   "name": "python",
   "nbconvert_exporter": "python",
   "pygments_lexer": "ipython3",
   "version": "3.10.12"
  }
 },
 "nbformat": 4,
 "nbformat_minor": 5
}
